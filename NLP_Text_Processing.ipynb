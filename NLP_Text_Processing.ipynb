{
  "nbformat": 4,
  "nbformat_minor": 0,
  "metadata": {
    "colab": {
      "provenance": [],
      "authorship_tag": "ABX9TyMY/GFo9VD0Ib8ginsnZqqc",
      "include_colab_link": true
    },
    "kernelspec": {
      "name": "python3",
      "display_name": "Python 3"
    },
    "language_info": {
      "name": "python"
    }
  },
  "cells": [
    {
      "cell_type": "markdown",
      "metadata": {
        "id": "view-in-github",
        "colab_type": "text"
      },
      "source": [
        "<a href=\"https://colab.research.google.com/github/subalasingh/Natural-Language-Processing/blob/main/NLP_Text_Processing.ipynb\" target=\"_parent\"><img src=\"https://colab.research.google.com/assets/colab-badge.svg\" alt=\"Open In Colab\"/></a>"
      ]
    },
    {
      "cell_type": "markdown",
      "source": [
        "#Tokenization, Stemming, Lemmatization, Bag of words(BoWs), TF-IDF"
      ],
      "metadata": {
        "id": "YwUyHi-c4s7Q"
      }
    },
    {
      "cell_type": "code",
      "execution_count": 1,
      "metadata": {
        "colab": {
          "base_uri": "https://localhost:8080/"
        },
        "id": "LBOiynny4ptu",
        "outputId": "7b96c42c-eeb1-4180-b82f-3b0175459807"
      },
      "outputs": [
        {
          "output_type": "stream",
          "name": "stdout",
          "text": [
            "Requirement already satisfied: nltk in /usr/local/lib/python3.11/dist-packages (3.9.1)\n",
            "Requirement already satisfied: click in /usr/local/lib/python3.11/dist-packages (from nltk) (8.2.1)\n",
            "Requirement already satisfied: joblib in /usr/local/lib/python3.11/dist-packages (from nltk) (1.5.1)\n",
            "Requirement already satisfied: regex>=2021.8.3 in /usr/local/lib/python3.11/dist-packages (from nltk) (2024.11.6)\n",
            "Requirement already satisfied: tqdm in /usr/local/lib/python3.11/dist-packages (from nltk) (4.67.1)\n"
          ]
        }
      ],
      "source": [
        "!pip install nltk"
      ]
    },
    {
      "cell_type": "code",
      "source": [
        "corpus = \"\"\"Narendra Damodardas Modi[a] (born 17 September 1950) is an Indian politician who has served as the prime minister of India since 2014. Modi was the chief minister of Gujarat from 2001 to 2014 and is the member of parliament (MP) for Varanasi. He is a member of the Bharatiya Janata Party (BJP) and of the Rashtriya Swayamsevak Sangh (RSS), a right-wing Hindutva paramilitary volunteer organisation. He is the longest-serving prime minister outside the Indian National Congress.\n",
        "\n",
        "Modi was born and raised in Vadnagar, Bombay State (present-day Gujarat), where he completed his secondary education. He was introduced to the RSS at the age of eight, becoming a full-time worker for the organisation in Gujarat in 1971. The RSS assigned him to the BJP in 1985, and he rose through the party hierarchy, becoming general secretary in 1998.[b] In 2001, Modi was appointed chief minister of Gujarat and elected to the legislative assembly soon after. His administration is considered complicit in the 2002 Gujarat riots[c] and has been criticised for its management of the crisis. According to official records, a little over 1,000 people were killed, three-quarters of whom were Muslim; independent sources estimated 2,000 deaths, mostly Muslim.[4] A Special Investigation Team appointed by the Supreme Court of India in 2012 found no evidence to initiate prosecution proceedings against him.[d] While his policies as chief minister were credited for encouraging economic growth, his administration was criticised for failing to significantly improve health, poverty and education indices in the state.\"\"\""
      ],
      "metadata": {
        "id": "RLAV_bR04veW"
      },
      "execution_count": 2,
      "outputs": []
    },
    {
      "cell_type": "code",
      "source": [
        "corpus"
      ],
      "metadata": {
        "colab": {
          "base_uri": "https://localhost:8080/",
          "height": 105
        },
        "id": "l_eghsn65Hl8",
        "outputId": "508ffa50-7e0f-4ec9-e1a8-22b6eac56c1d"
      },
      "execution_count": 3,
      "outputs": [
        {
          "output_type": "execute_result",
          "data": {
            "text/plain": [
              "'Narendra Damodardas Modi[a] (born 17 September 1950) is an Indian politician who has served as the prime minister of India since 2014. Modi was the chief minister of Gujarat from 2001 to 2014 and is the member of parliament (MP) for Varanasi. He is a member of the Bharatiya Janata Party (BJP) and of the Rashtriya Swayamsevak Sangh (RSS), a right-wing Hindutva paramilitary volunteer organisation. He is the longest-serving prime minister outside the Indian National Congress.\\n\\nModi was born and raised in Vadnagar, Bombay State (present-day Gujarat), where he completed his secondary education. He was introduced to the RSS at the age of eight, becoming a full-time worker for the organisation in Gujarat in 1971. The RSS assigned him to the BJP in 1985, and he rose through the party hierarchy, becoming general secretary in 1998.[b] In 2001, Modi was appointed chief minister of Gujarat and elected to the legislative assembly soon after. His administration is considered complicit in the 2002 Gujarat riots[c] and has been criticised for its management of the crisis. According to official records, a little over 1,000 people were killed, three-quarters of whom were Muslim; independent sources estimated 2,000 deaths, mostly Muslim.[4] A Special Investigation Team appointed by the Supreme Court of India in 2012 found no evidence to initiate prosecution proceedings against him.[d] While his policies as chief minister were credited for encouraging economic growth, his administration was criticised for failing to significantly improve health, poverty and education indices in the state.'"
            ],
            "application/vnd.google.colaboratory.intrinsic+json": {
              "type": "string"
            }
          },
          "metadata": {},
          "execution_count": 3
        }
      ]
    },
    {
      "cell_type": "code",
      "source": [
        "#importing basic libraries\n",
        "import nltk\n",
        "nltk.download('punkt_tab')   #downloading 'punkt_tab' to use sentence tokenization\n",
        "nltk.download('wordnet')    #downloading 'wordnet' to use Lemmatizatiom\n",
        "nltk.download('stopwords')  #downloading 'stopwords' to use stopwords\n",
        "from nltk.stem import PorterStemmer\n",
        "from nltk.corpus import stopwords"
      ],
      "metadata": {
        "colab": {
          "base_uri": "https://localhost:8080/"
        },
        "id": "i0x-ZCP95InY",
        "outputId": "db1ee096-2098-4a2d-8e9c-0aa9866985e2"
      },
      "execution_count": 4,
      "outputs": [
        {
          "output_type": "stream",
          "name": "stderr",
          "text": [
            "[nltk_data] Downloading package punkt_tab to /root/nltk_data...\n",
            "[nltk_data]   Unzipping tokenizers/punkt_tab.zip.\n",
            "[nltk_data] Downloading package wordnet to /root/nltk_data...\n",
            "[nltk_data] Downloading package stopwords to /root/nltk_data...\n",
            "[nltk_data]   Unzipping corpora/stopwords.zip.\n"
          ]
        }
      ]
    },
    {
      "cell_type": "markdown",
      "source": [
        "#Tokenization"
      ],
      "metadata": {
        "id": "Ai2M0M35N8b2"
      }
    },
    {
      "cell_type": "code",
      "source": [
        "##tokenization\n",
        "sentences= nltk.sent_tokenize(corpus)"
      ],
      "metadata": {
        "id": "6QiAUHfO6RLr"
      },
      "execution_count": 5,
      "outputs": []
    },
    {
      "cell_type": "code",
      "source": [
        "print(sentences)"
      ],
      "metadata": {
        "colab": {
          "base_uri": "https://localhost:8080/"
        },
        "id": "jOoN8ruD62q7",
        "outputId": "48f1d794-6d1a-4cf5-bc92-508576c3da8a"
      },
      "execution_count": 6,
      "outputs": [
        {
          "output_type": "stream",
          "name": "stdout",
          "text": [
            "['Narendra Damodardas Modi[a] (born 17 September 1950) is an Indian politician who has served as the prime minister of India since 2014.', 'Modi was the chief minister of Gujarat from 2001 to 2014 and is the member of parliament (MP) for Varanasi.', 'He is a member of the Bharatiya Janata Party (BJP) and of the Rashtriya Swayamsevak Sangh (RSS), a right-wing Hindutva paramilitary volunteer organisation.', 'He is the longest-serving prime minister outside the Indian National Congress.', 'Modi was born and raised in Vadnagar, Bombay State (present-day Gujarat), where he completed his secondary education.', 'He was introduced to the RSS at the age of eight, becoming a full-time worker for the organisation in Gujarat in 1971.', 'The RSS assigned him to the BJP in 1985, and he rose through the party hierarchy, becoming general secretary in 1998.', '[b] In 2001, Modi was appointed chief minister of Gujarat and elected to the legislative assembly soon after.', 'His administration is considered complicit in the 2002 Gujarat riots[c] and has been criticised for its management of the crisis.', 'According to official records, a little over 1,000 people were killed, three-quarters of whom were Muslim; independent sources estimated 2,000 deaths, mostly Muslim.', '[4] A Special Investigation Team appointed by the Supreme Court of India in 2012 found no evidence to initiate prosecution proceedings against him.', '[d] While his policies as chief minister were credited for encouraging economic growth, his administration was criticised for failing to significantly improve health, poverty and education indices in the state.']\n"
          ]
        }
      ]
    },
    {
      "cell_type": "code",
      "source": [
        "#initializing Porter's Stemmer\n",
        "stemmer = PorterStemmer()\n",
        "stemmer.stem('history')"
      ],
      "metadata": {
        "colab": {
          "base_uri": "https://localhost:8080/",
          "height": 35
        },
        "id": "HhMrQj2y7mPB",
        "outputId": "3d0855e7-9730-4d9d-be00-f434c602463a"
      },
      "execution_count": 7,
      "outputs": [
        {
          "output_type": "execute_result",
          "data": {
            "text/plain": [
              "'histori'"
            ],
            "application/vnd.google.colaboratory.intrinsic+json": {
              "type": "string"
            }
          },
          "metadata": {},
          "execution_count": 7
        }
      ]
    },
    {
      "cell_type": "code",
      "source": [
        "#importing and initializing Lemmatizer\n",
        "from nltk.stem import WordNetLemmatizer\n",
        "lemmatizer = WordNetLemmatizer()"
      ],
      "metadata": {
        "id": "VJ3EKZvB7yd6"
      },
      "execution_count": 8,
      "outputs": []
    },
    {
      "cell_type": "code",
      "source": [
        "lemmatizer.lemmatize('goes')"
      ],
      "metadata": {
        "colab": {
          "base_uri": "https://localhost:8080/",
          "height": 35
        },
        "id": "NMId-fPv8sTC",
        "outputId": "2b895467-1a5b-4d2a-d2c1-debea40b7f99"
      },
      "execution_count": 9,
      "outputs": [
        {
          "output_type": "execute_result",
          "data": {
            "text/plain": [
              "'go'"
            ],
            "application/vnd.google.colaboratory.intrinsic+json": {
              "type": "string"
            }
          },
          "metadata": {},
          "execution_count": 9
        }
      ]
    },
    {
      "cell_type": "code",
      "source": [
        "len(sentences)"
      ],
      "metadata": {
        "colab": {
          "base_uri": "https://localhost:8080/"
        },
        "id": "FR2eE1f4AHY9",
        "outputId": "58ad7dd6-cbdb-4f7c-b128-74019dda5bb4"
      },
      "execution_count": 10,
      "outputs": [
        {
          "output_type": "execute_result",
          "data": {
            "text/plain": [
              "12"
            ]
          },
          "metadata": {},
          "execution_count": 10
        }
      ]
    },
    {
      "cell_type": "code",
      "source": [
        "import re #importing regular expression package for cleaning text by removing special characters\n",
        "text = []\n",
        "for i  in range(len(sentences)):\n",
        "  review = re.sub('[^a-zA-Z]',' ',sentences[i]) #replacing all the characters/symbols other than(^) a-z/A-Z with blank character\n",
        "  review = review.lower() #converting them to lower case\n",
        "  text.append(review)\n",
        "\n"
      ],
      "metadata": {
        "id": "kLuGpaYj9abw"
      },
      "execution_count": 11,
      "outputs": []
    },
    {
      "cell_type": "code",
      "source": [
        "text"
      ],
      "metadata": {
        "colab": {
          "base_uri": "https://localhost:8080/"
        },
        "id": "3PDSR4cXBvYI",
        "outputId": "36286da0-245f-49b6-b2ba-366d24b342ff"
      },
      "execution_count": 12,
      "outputs": [
        {
          "output_type": "execute_result",
          "data": {
            "text/plain": [
              "['narendra damodardas modi a   born    september       is an indian politician who has served as the prime minister of india since      ',\n",
              " 'modi was the chief minister of gujarat from      to      and is the member of parliament  mp  for varanasi ',\n",
              " 'he is a member of the bharatiya janata party  bjp  and of the rashtriya swayamsevak sangh  rss   a right wing hindutva paramilitary volunteer organisation ',\n",
              " 'he is the longest serving prime minister outside the indian national congress ',\n",
              " 'modi was born and raised in vadnagar  bombay state  present day gujarat   where he completed his secondary education ',\n",
              " 'he was introduced to the rss at the age of eight  becoming a full time worker for the organisation in gujarat in      ',\n",
              " 'the rss assigned him to the bjp in       and he rose through the party hierarchy  becoming general secretary in      ',\n",
              " ' b  in       modi was appointed chief minister of gujarat and elected to the legislative assembly soon after ',\n",
              " 'his administration is considered complicit in the      gujarat riots c  and has been criticised for its management of the crisis ',\n",
              " 'according to official records  a little over       people were killed  three quarters of whom were muslim  independent sources estimated       deaths  mostly muslim ',\n",
              " '    a special investigation team appointed by the supreme court of india in      found no evidence to initiate prosecution proceedings against him ',\n",
              " ' d  while his policies as chief minister were credited for encouraging economic growth  his administration was criticised for failing to significantly improve health  poverty and education indices in the state ']"
            ]
          },
          "metadata": {},
          "execution_count": 12
        }
      ]
    },
    {
      "cell_type": "markdown",
      "source": [
        "# Stemming"
      ],
      "metadata": {
        "id": "06q7DwsaN_SD"
      }
    },
    {
      "cell_type": "code",
      "source": [
        "### applying stemming\n",
        "for i in text:\n",
        "  words = nltk.word_tokenize(i)\n",
        "  for word in words:\n",
        "    if word not in set(stopwords.words('english')):\n",
        "      print(stemmer.stem(word))"
      ],
      "metadata": {
        "colab": {
          "base_uri": "https://localhost:8080/"
        },
        "id": "wOdcOA92Bx52",
        "outputId": "12debc70-5574-41c1-8f92-a336e7292231"
      },
      "execution_count": 13,
      "outputs": [
        {
          "output_type": "stream",
          "name": "stdout",
          "text": [
            "narendra\n",
            "damodarda\n",
            "modi\n",
            "born\n",
            "septemb\n",
            "indian\n",
            "politician\n",
            "serv\n",
            "prime\n",
            "minist\n",
            "india\n",
            "sinc\n",
            "modi\n",
            "chief\n",
            "minist\n",
            "gujarat\n",
            "member\n",
            "parliament\n",
            "mp\n",
            "varanasi\n",
            "member\n",
            "bharatiya\n",
            "janata\n",
            "parti\n",
            "bjp\n",
            "rashtriya\n",
            "swayamsevak\n",
            "sangh\n",
            "rss\n",
            "right\n",
            "wing\n",
            "hindutva\n",
            "paramilitari\n",
            "volunt\n",
            "organis\n",
            "longest\n",
            "serv\n",
            "prime\n",
            "minist\n",
            "outsid\n",
            "indian\n",
            "nation\n",
            "congress\n",
            "modi\n",
            "born\n",
            "rais\n",
            "vadnagar\n",
            "bombay\n",
            "state\n",
            "present\n",
            "day\n",
            "gujarat\n",
            "complet\n",
            "secondari\n",
            "educ\n",
            "introduc\n",
            "rss\n",
            "age\n",
            "eight\n",
            "becom\n",
            "full\n",
            "time\n",
            "worker\n",
            "organis\n",
            "gujarat\n",
            "rss\n",
            "assign\n",
            "bjp\n",
            "rose\n",
            "parti\n",
            "hierarchi\n",
            "becom\n",
            "gener\n",
            "secretari\n",
            "b\n",
            "modi\n",
            "appoint\n",
            "chief\n",
            "minist\n",
            "gujarat\n",
            "elect\n",
            "legisl\n",
            "assembl\n",
            "soon\n",
            "administr\n",
            "consid\n",
            "complicit\n",
            "gujarat\n",
            "riot\n",
            "c\n",
            "criticis\n",
            "manag\n",
            "crisi\n",
            "accord\n",
            "offici\n",
            "record\n",
            "littl\n",
            "peopl\n",
            "kill\n",
            "three\n",
            "quarter\n",
            "muslim\n",
            "independ\n",
            "sourc\n",
            "estim\n",
            "death\n",
            "mostli\n",
            "muslim\n",
            "special\n",
            "investig\n",
            "team\n",
            "appoint\n",
            "suprem\n",
            "court\n",
            "india\n",
            "found\n",
            "evid\n",
            "initi\n",
            "prosecut\n",
            "proceed\n",
            "polici\n",
            "chief\n",
            "minist\n",
            "credit\n",
            "encourag\n",
            "econom\n",
            "growth\n",
            "administr\n",
            "criticis\n",
            "fail\n",
            "significantli\n",
            "improv\n",
            "health\n",
            "poverti\n",
            "educ\n",
            "indic\n",
            "state\n"
          ]
        }
      ]
    },
    {
      "cell_type": "markdown",
      "source": [
        "# Lemmatization"
      ],
      "metadata": {
        "id": "6zFXeh3YOOkc"
      }
    },
    {
      "cell_type": "code",
      "source": [
        "### applying Lemmatization\n",
        "for i in text:\n",
        "  words = nltk.word_tokenize(i)\n",
        "  for word in words:\n",
        "    if word not in set(stopwords.words('english')):\n",
        "      print(lemmatizer.lemmatize(word))"
      ],
      "metadata": {
        "colab": {
          "base_uri": "https://localhost:8080/"
        },
        "id": "EKh5yIjnDbPO",
        "outputId": "5ee3ab34-5a74-4727-ffa2-2b0f9ef1d3d6"
      },
      "execution_count": 14,
      "outputs": [
        {
          "output_type": "stream",
          "name": "stdout",
          "text": [
            "narendra\n",
            "damodardas\n",
            "modi\n",
            "born\n",
            "september\n",
            "indian\n",
            "politician\n",
            "served\n",
            "prime\n",
            "minister\n",
            "india\n",
            "since\n",
            "modi\n",
            "chief\n",
            "minister\n",
            "gujarat\n",
            "member\n",
            "parliament\n",
            "mp\n",
            "varanasi\n",
            "member\n",
            "bharatiya\n",
            "janata\n",
            "party\n",
            "bjp\n",
            "rashtriya\n",
            "swayamsevak\n",
            "sangh\n",
            "rss\n",
            "right\n",
            "wing\n",
            "hindutva\n",
            "paramilitary\n",
            "volunteer\n",
            "organisation\n",
            "longest\n",
            "serving\n",
            "prime\n",
            "minister\n",
            "outside\n",
            "indian\n",
            "national\n",
            "congress\n",
            "modi\n",
            "born\n",
            "raised\n",
            "vadnagar\n",
            "bombay\n",
            "state\n",
            "present\n",
            "day\n",
            "gujarat\n",
            "completed\n",
            "secondary\n",
            "education\n",
            "introduced\n",
            "rss\n",
            "age\n",
            "eight\n",
            "becoming\n",
            "full\n",
            "time\n",
            "worker\n",
            "organisation\n",
            "gujarat\n",
            "rss\n",
            "assigned\n",
            "bjp\n",
            "rose\n",
            "party\n",
            "hierarchy\n",
            "becoming\n",
            "general\n",
            "secretary\n",
            "b\n",
            "modi\n",
            "appointed\n",
            "chief\n",
            "minister\n",
            "gujarat\n",
            "elected\n",
            "legislative\n",
            "assembly\n",
            "soon\n",
            "administration\n",
            "considered\n",
            "complicit\n",
            "gujarat\n",
            "riot\n",
            "c\n",
            "criticised\n",
            "management\n",
            "crisis\n",
            "according\n",
            "official\n",
            "record\n",
            "little\n",
            "people\n",
            "killed\n",
            "three\n",
            "quarter\n",
            "muslim\n",
            "independent\n",
            "source\n",
            "estimated\n",
            "death\n",
            "mostly\n",
            "muslim\n",
            "special\n",
            "investigation\n",
            "team\n",
            "appointed\n",
            "supreme\n",
            "court\n",
            "india\n",
            "found\n",
            "evidence\n",
            "initiate\n",
            "prosecution\n",
            "proceeding\n",
            "policy\n",
            "chief\n",
            "minister\n",
            "credited\n",
            "encouraging\n",
            "economic\n",
            "growth\n",
            "administration\n",
            "criticised\n",
            "failing\n",
            "significantly\n",
            "improve\n",
            "health\n",
            "poverty\n",
            "education\n",
            "index\n",
            "state\n"
          ]
        }
      ]
    },
    {
      "cell_type": "markdown",
      "source": [
        "# Bag of words(BoWs)"
      ],
      "metadata": {
        "id": "WvfXyVeIOYjJ"
      }
    },
    {
      "cell_type": "code",
      "source": [
        "#Bag of words\n",
        "from sklearn.feature_extraction.text import CountVectorizer\n",
        "cv = CountVectorizer() #initializing, set binary = True for Binary BoWs"
      ],
      "metadata": {
        "id": "Y1OUpgoMNBYY"
      },
      "execution_count": 15,
      "outputs": []
    },
    {
      "cell_type": "code",
      "source": [
        "x = cv.fit_transform(text) #applying count vectorizer to the corpus = text"
      ],
      "metadata": {
        "id": "FJUnqTYuP5Fn"
      },
      "execution_count": 16,
      "outputs": []
    },
    {
      "cell_type": "code",
      "source": [
        "cv.vocabulary_"
      ],
      "metadata": {
        "colab": {
          "base_uri": "https://localhost:8080/"
        },
        "id": "fjhqwMy5P8gA",
        "outputId": "0f2e540c-cd0d-42bb-e915-72c58134a0c0"
      },
      "execution_count": 17,
      "outputs": [
        {
          "output_type": "execute_result",
          "data": {
            "text/plain": [
              "{'narendra': 76,\n",
              " 'damodardas': 28,\n",
              " 'modi': 72,\n",
              " 'born': 17,\n",
              " 'september': 106,\n",
              " 'is': 62,\n",
              " 'an': 5,\n",
              " 'indian': 57,\n",
              " 'politician': 89,\n",
              " 'who': 130,\n",
              " 'has': 46,\n",
              " 'served': 107,\n",
              " 'as': 8,\n",
              " 'the': 118,\n",
              " 'prime': 92,\n",
              " 'minister': 71,\n",
              " 'of': 79,\n",
              " 'india': 56,\n",
              " 'since': 110,\n",
              " 'was': 126,\n",
              " 'chief': 19,\n",
              " 'gujarat': 45,\n",
              " 'from': 41,\n",
              " 'to': 122,\n",
              " 'and': 6,\n",
              " 'member': 70,\n",
              " 'parliament': 85,\n",
              " 'mp': 74,\n",
              " 'for': 39,\n",
              " 'varanasi': 124,\n",
              " 'he': 47,\n",
              " 'bharatiya': 14,\n",
              " 'janata': 64,\n",
              " 'party': 86,\n",
              " 'bjp': 15,\n",
              " 'rashtriya': 97,\n",
              " 'swayamsevak': 116,\n",
              " 'sangh': 103,\n",
              " 'rss': 102,\n",
              " 'right': 99,\n",
              " 'wing': 132,\n",
              " 'hindutva': 51,\n",
              " 'paramilitary': 84,\n",
              " 'volunteer': 125,\n",
              " 'organisation': 81,\n",
              " 'longest': 68,\n",
              " 'serving': 108,\n",
              " 'outside': 82,\n",
              " 'national': 77,\n",
              " 'congress': 22,\n",
              " 'raised': 96,\n",
              " 'in': 54,\n",
              " 'vadnagar': 123,\n",
              " 'bombay': 16,\n",
              " 'state': 114,\n",
              " 'present': 91,\n",
              " 'day': 29,\n",
              " 'where': 128,\n",
              " 'completed': 20,\n",
              " 'his': 52,\n",
              " 'secondary': 104,\n",
              " 'education': 32,\n",
              " 'introduced': 60,\n",
              " 'at': 11,\n",
              " 'age': 4,\n",
              " 'eight': 33,\n",
              " 'becoming': 12,\n",
              " 'full': 42,\n",
              " 'time': 121,\n",
              " 'worker': 133,\n",
              " 'assigned': 10,\n",
              " 'him': 50,\n",
              " 'rose': 101,\n",
              " 'through': 120,\n",
              " 'hierarchy': 49,\n",
              " 'general': 43,\n",
              " 'secretary': 105,\n",
              " 'appointed': 7,\n",
              " 'elected': 34,\n",
              " 'legislative': 66,\n",
              " 'assembly': 9,\n",
              " 'soon': 111,\n",
              " 'after': 2,\n",
              " 'administration': 1,\n",
              " 'considered': 23,\n",
              " 'complicit': 21,\n",
              " 'riots': 100,\n",
              " 'been': 13,\n",
              " 'criticised': 27,\n",
              " 'its': 63,\n",
              " 'management': 69,\n",
              " 'crisis': 26,\n",
              " 'according': 0,\n",
              " 'official': 80,\n",
              " 'records': 98,\n",
              " 'little': 67,\n",
              " 'over': 83,\n",
              " 'people': 87,\n",
              " 'were': 127,\n",
              " 'killed': 65,\n",
              " 'three': 119,\n",
              " 'quarters': 95,\n",
              " 'whom': 131,\n",
              " 'muslim': 75,\n",
              " 'independent': 55,\n",
              " 'sources': 112,\n",
              " 'estimated': 36,\n",
              " 'deaths': 30,\n",
              " 'mostly': 73,\n",
              " 'special': 113,\n",
              " 'investigation': 61,\n",
              " 'team': 117,\n",
              " 'by': 18,\n",
              " 'supreme': 115,\n",
              " 'court': 24,\n",
              " 'found': 40,\n",
              " 'no': 78,\n",
              " 'evidence': 37,\n",
              " 'initiate': 59,\n",
              " 'prosecution': 94,\n",
              " 'proceedings': 93,\n",
              " 'against': 3,\n",
              " 'while': 129,\n",
              " 'policies': 88,\n",
              " 'credited': 25,\n",
              " 'encouraging': 35,\n",
              " 'economic': 31,\n",
              " 'growth': 44,\n",
              " 'failing': 38,\n",
              " 'significantly': 109,\n",
              " 'improve': 53,\n",
              " 'health': 48,\n",
              " 'poverty': 90,\n",
              " 'indices': 58}"
            ]
          },
          "metadata": {},
          "execution_count": 17
        }
      ]
    },
    {
      "cell_type": "code",
      "source": [
        "text[0]"
      ],
      "metadata": {
        "colab": {
          "base_uri": "https://localhost:8080/",
          "height": 35
        },
        "id": "vGJS01LFQj9-",
        "outputId": "56ff6d96-12c6-42b9-fcb7-5816e0bbcc8c"
      },
      "execution_count": 18,
      "outputs": [
        {
          "output_type": "execute_result",
          "data": {
            "text/plain": [
              "'narendra damodardas modi a   born    september       is an indian politician who has served as the prime minister of india since      '"
            ],
            "application/vnd.google.colaboratory.intrinsic+json": {
              "type": "string"
            }
          },
          "metadata": {},
          "execution_count": 18
        }
      ]
    },
    {
      "cell_type": "code",
      "source": [
        "x[0].toarray()  #here we can see problem of sparsity"
      ],
      "metadata": {
        "colab": {
          "base_uri": "https://localhost:8080/"
        },
        "id": "5Xr9JJyKSHY5",
        "outputId": "4db679d6-8776-461a-8749-0e3d5cabe817"
      },
      "execution_count": 19,
      "outputs": [
        {
          "output_type": "execute_result",
          "data": {
            "text/plain": [
              "array([[0, 0, 0, 0, 0, 1, 0, 0, 1, 0, 0, 0, 0, 0, 0, 0, 0, 1, 0, 0, 0, 0,\n",
              "        0, 0, 0, 0, 0, 0, 1, 0, 0, 0, 0, 0, 0, 0, 0, 0, 0, 0, 0, 0, 0, 0,\n",
              "        0, 0, 1, 0, 0, 0, 0, 0, 0, 0, 0, 0, 1, 1, 0, 0, 0, 0, 1, 0, 0, 0,\n",
              "        0, 0, 0, 0, 0, 1, 1, 0, 0, 0, 1, 0, 0, 1, 0, 0, 0, 0, 0, 0, 0, 0,\n",
              "        0, 1, 0, 0, 1, 0, 0, 0, 0, 0, 0, 0, 0, 0, 0, 0, 0, 0, 1, 1, 0, 0,\n",
              "        1, 0, 0, 0, 0, 0, 0, 0, 1, 0, 0, 0, 0, 0, 0, 0, 0, 0, 0, 0, 1, 0,\n",
              "        0, 0]])"
            ]
          },
          "metadata": {},
          "execution_count": 19
        }
      ]
    },
    {
      "cell_type": "markdown",
      "source": [
        "# TF-IDF"
      ],
      "metadata": {
        "id": "Fp27JfP1P13t"
      }
    },
    {
      "cell_type": "code",
      "source": [
        "from sklearn.feature_extraction.text import TfidfVectorizer\n",
        "cv = TfidfVectorizer(ngram_range=(1,1), max_features = 3)\n",
        "x = cv.fit_transform(text)"
      ],
      "metadata": {
        "id": "EF1B8iOZSL5u"
      },
      "execution_count": 24,
      "outputs": []
    },
    {
      "cell_type": "code",
      "source": [
        "text[0]"
      ],
      "metadata": {
        "colab": {
          "base_uri": "https://localhost:8080/",
          "height": 35
        },
        "id": "JEg74EoNQMlf",
        "outputId": "29cf5d82-c275-4b58-b979-0dca653ff1e6"
      },
      "execution_count": 25,
      "outputs": [
        {
          "output_type": "execute_result",
          "data": {
            "text/plain": [
              "'narendra damodardas modi a   born    september       is an indian politician who has served as the prime minister of india since      '"
            ],
            "application/vnd.google.colaboratory.intrinsic+json": {
              "type": "string"
            }
          },
          "metadata": {},
          "execution_count": 25
        }
      ]
    },
    {
      "cell_type": "code",
      "source": [
        "x[0].toarray() #below vector is showing TFIDF score, issue of sparsity is still there"
      ],
      "metadata": {
        "colab": {
          "base_uri": "https://localhost:8080/"
        },
        "id": "zaBtEqOsQP2Q",
        "outputId": "9c5f86a3-06de-41e3-994d-3e8a6d8c81f0"
      },
      "execution_count": 26,
      "outputs": [
        {
          "output_type": "execute_result",
          "data": {
            "text/plain": [
              "array([[0.        , 0.76070616, 0.6490964 ]])"
            ]
          },
          "metadata": {},
          "execution_count": 26
        }
      ]
    },
    {
      "cell_type": "code",
      "source": [],
      "metadata": {
        "id": "Fj3bo52HQzWt"
      },
      "execution_count": null,
      "outputs": []
    }
  ]
}